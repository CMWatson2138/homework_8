{
 "cells": [
  {
   "cell_type": "code",
   "execution_count": null,
   "metadata": {},
   "outputs": [],
   "source": [
    "Please push a notebook with answers to the following questions to github when you’re done\n",
    "1. Lookup information on geometric mean and harmonic mean to answer the following\n",
    "questions:\n",
    "a. In a jupyter notebook create a markdown section for each of the three concepts:\n",
    "arithmetic mean, geometric mean, and harmonic mean\n",
    "b. Write a definition for arithmetic mean, geometric mean, and harmonic mean,\n",
    "under their respective headings\n",
    "c. Write an example code example for arithmetic mean, geometric mean, and\n",
    "harmonic mean using the Belize Airbnb data in a cell under the each respective\n",
    "summary in markdown"
   ]
  },
  {
   "cell_type": "code",
   "execution_count": 4,
   "metadata": {},
   "outputs": [],
   "source": [
    "import pandas as pd\n",
    "import numpy as np\n",
    "import math\n",
    "import statistics\n",
    "from scipy import stats\n"
   ]
  },
  {
   "cell_type": "code",
   "execution_count": 9,
   "metadata": {},
   "outputs": [],
   "source": [
    "\n",
    "belize_airbnb_listings=pd.read_csv(r\"C:\\Users\\watso\\Documents\\Data_Science_Bootcamp\\homework_8\\belize_airbnb_listings.csv\")"
   ]
  },
  {
   "cell_type": "markdown",
   "metadata": {},
   "source": [
    "# Arithmetic Mean\n",
    "This is a measure found by adding all of the values together and then dividing by the total number of values."
   ]
  },
  {
   "cell_type": "markdown",
   "metadata": {},
   "source": [
    "np.mean(belize_airbnb_listings)\n",
    "    \n"
   ]
  },
  {
   "cell_type": "markdown",
   "metadata": {},
   "source": [
    "# Geometric Mean\n",
    "The nth root of the product of n numbers"
   ]
  },
  {
   "cell_type": "markdown",
   "metadata": {},
   "source": [
    "stats.gmean(belize_airbnb_listings['price'])\n",
    "    "
   ]
  },
  {
   "cell_type": "markdown",
   "metadata": {},
   "source": [
    "# Harmonic Mean\n",
    "The reciprocal of the average of the reciprocals.\n",
    "Steps Calculate the reciprocal (1/value) for every value\n",
    "    Find the average of those reciprocals (just add them and divide by how many there are\n",
    "    Then do the reciprocal of that average (=1/average)"
   ]
  },
  {
   "cell_type": "markdown",
   "metadata": {},
   "source": [
    "stats.hmean(belize_airbnb_listings['price'])\n",
    "    "
   ]
  }
 ],
 "metadata": {
  "kernelspec": {
   "display_name": "Python 3",
   "language": "python",
   "name": "python3"
  },
  "language_info": {
   "codemirror_mode": {
    "name": "ipython",
    "version": 3
   },
   "file_extension": ".py",
   "mimetype": "text/x-python",
   "name": "python",
   "nbconvert_exporter": "python",
   "pygments_lexer": "ipython3",
   "version": "3.8.5"
  }
 },
 "nbformat": 4,
 "nbformat_minor": 4
}
